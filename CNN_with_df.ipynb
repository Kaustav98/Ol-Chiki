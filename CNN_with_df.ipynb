{
  "nbformat": 4,
  "nbformat_minor": 0,
  "metadata": {
    "colab": {
      "name": "CNN_with_df.ipynb",
      "version": "0.3.2",
      "provenance": [],
      "collapsed_sections": []
    },
    "kernelspec": {
      "name": "python3",
      "display_name": "Python 3"
    },
    "accelerator": "GPU"
  },
  "cells": [
    {
      "cell_type": "code",
      "metadata": {
        "id": "701qd8SFW85D",
        "colab_type": "code",
        "colab": {}
      },
      "source": [
        "import numpy as np\n",
        "import pandas as pd\n",
        "import cv2\n",
        "\n",
        "from keras import backend as K\n",
        "from keras.models import Sequential\n",
        "from keras.layers import Conv2D, MaxPooling2D\n",
        "from keras.layers import Activation, Dropout, Flatten, Dense\n",
        "from keras.preprocessing.image import ImageDataGenerator\n",
        "from keras.metrics import categorical_crossentropy\n",
        "from keras.layers import BatchNormalization\n",
        "from keras.layers.convolutional import *\n",
        "from keras.callbacks import EarlyStopping, ReduceLROnPlateau\n",
        "from keras.optimizers import Adam\n",
        "from keras.utils import np_utils\n",
        "\n",
        "K.set_image_dim_ordering('tf')\n",
        "from sklearn.model_selection import train_test_split\n",
        "from sklearn.model_selection import StratifiedKFold\n",
        "from sklearn.preprocessing import MultiLabelBinarizer,LabelEncoder\n",
        "from sklearn.metrics import confusion_matrix\n",
        "from matplotlib import pyplot as plt\n",
        "\n",
        "import itertools\n",
        "\n",
        "from PIL import Image\n",
        "import os, sys\n",
        "import zipfile\n",
        "import io\n",
        "\n",
        "from google.colab import files\n",
        "\n",
        "np.random.seed(7)"
      ],
      "execution_count": 0,
      "outputs": []
    },
    {
      "cell_type": "code",
      "metadata": {
        "id": "uCjGVG_1XPOJ",
        "colab_type": "code",
        "colab": {}
      },
      "source": [
        "uploaded = files.upload()"
      ],
      "execution_count": 0,
      "outputs": []
    },
    {
      "cell_type": "code",
      "metadata": {
        "id": "48-t85WOXY42",
        "colab_type": "code",
        "colab": {}
      },
      "source": [
        "Data = zipfile.ZipFile(io.BytesIO(uploaded['Data.zip']), 'r')\n",
        "Data.extractall()"
      ],
      "execution_count": 0,
      "outputs": []
    },
    {
      "cell_type": "code",
      "metadata": {
        "id": "Y2vVEds5TrqS",
        "colab_type": "code",
        "colab": {}
      },
      "source": [
        "Data = []\n",
        "labels_Data = []\n",
        "for i in range(10):\n",
        "    xData = str('Data/'+str(i)+'/')\n",
        "    drData = os.listdir(xData) # dir is your directory path\n",
        "    number_files = len(drData)\n",
        "    for names in (drData):\n",
        "        xData1 = str(xData+names)\n",
        "        Data.append(xData1)\n",
        "        labels_Data.append(i)"
      ],
      "execution_count": 0,
      "outputs": []
    },
    {
      "cell_type": "code",
      "metadata": {
        "id": "mbFbp78kUJhp",
        "colab_type": "code",
        "colab": {}
      },
      "source": [
        "Data_tuples = []\n",
        "Data_tuples = list(zip(Data, labels_Data))"
      ],
      "execution_count": 0,
      "outputs": []
    },
    {
      "cell_type": "code",
      "metadata": {
        "id": "-UmmMYciUQOS",
        "colab_type": "code",
        "colab": {}
      },
      "source": [
        "Data_df = pd.DataFrame(Data_tuples, columns=['Image_Path','Label'])\n",
        "Data_df = Data_df.sample(frac=1).reset_index(drop=True)"
      ],
      "execution_count": 0,
      "outputs": []
    },
    {
      "cell_type": "code",
      "metadata": {
        "id": "iPoJl9lqkVSz",
        "colab_type": "code",
        "colab": {}
      },
      "source": [
        "X_train, X_test, Y_train, Y_test = train_test_split(Data_df['Image_Path'], Data_df['Label'], test_size=0.33, random_state=42)"
      ],
      "execution_count": 0,
      "outputs": []
    },
    {
      "cell_type": "code",
      "metadata": {
        "id": "DrouOR3oVB6b",
        "colab_type": "code",
        "colab": {}
      },
      "source": [
        "X_train = X_train.reset_index(drop=True)\n",
        "X_test = X_test.reset_index(drop=True)\n",
        "Y_train = Y_train.reset_index(drop=True)\n",
        "Y_test = Y_test.reset_index(drop=True)"
      ],
      "execution_count": 0,
      "outputs": []
    },
    {
      "cell_type": "code",
      "metadata": {
        "id": "p_9ZFAOhVWeN",
        "colab_type": "code",
        "colab": {}
      },
      "source": [
        "t = cv2.imread(Data_df['Image_Path'][3])"
      ],
      "execution_count": 0,
      "outputs": []
    },
    {
      "cell_type": "code",
      "metadata": {
        "id": "oFvaWoefWAiZ",
        "colab_type": "code",
        "colab": {}
      },
      "source": [
        "image_X_train = []\n",
        "for i in range(len(X_train)):\n",
        "    image = cv2.imread(X_train[i])\n",
        "    image = image/255\n",
        "    image_X_train.append(image)\n",
        "image_X_train = np.array(image_X_train)"
      ],
      "execution_count": 0,
      "outputs": []
    },
    {
      "cell_type": "code",
      "metadata": {
        "id": "8GFnAzBnbrRz",
        "colab_type": "code",
        "colab": {}
      },
      "source": [
        "image_X_test = []\n",
        "for i in range(len(X_test)):\n",
        "    image = cv2.imread(X_test[i])\n",
        "    image = image/255\n",
        "    image_X_test.append(image)\n",
        "image_X_test = np.array(image_X_test)"
      ],
      "execution_count": 0,
      "outputs": []
    },
    {
      "cell_type": "code",
      "metadata": {
        "id": "dk6J5vWIWBTq",
        "colab_type": "code",
        "colab": {}
      },
      "source": [
        "image_X_train.shape[1:]"
      ],
      "execution_count": 0,
      "outputs": []
    },
    {
      "cell_type": "code",
      "metadata": {
        "id": "PgQLDxMEhSPY",
        "colab_type": "code",
        "colab": {}
      },
      "source": [
        "Y_train = np_utils.to_categorical(Y_train, 10)\n",
        "Y_test = np_utils.to_categorical(Y_test, 10)"
      ],
      "execution_count": 0,
      "outputs": []
    },
    {
      "cell_type": "code",
      "metadata": {
        "id": "s2egcFJSYMkq",
        "colab_type": "code",
        "colab": {}
      },
      "source": [
        "def create_model():    \n",
        "    model = Sequential()\n",
        "\n",
        "    model.add(Conv2D(32, (3, 3), input_shape=(28,28,3)))\n",
        "    model.add(BatchNormalization(axis=-1))\n",
        "    model.add(Activation('relu'))\n",
        "    model.add(Conv2D(32, (3, 3)))\n",
        "    model.add(BatchNormalization(axis=-1))\n",
        "    model.add(Activation('relu'))\n",
        "    model.add(MaxPooling2D(pool_size=(2,2)))\n",
        "    model.add(Dropout(0.2))\n",
        "\n",
        "    model.add(Conv2D(64,(3, 3)))\n",
        "    model.add(BatchNormalization(axis=-1))\n",
        "    model.add(Activation('relu'))\n",
        "    model.add(Conv2D(64, (3, 3)))\n",
        "    model.add(BatchNormalization(axis=-1))\n",
        "    model.add(Activation('relu'))\n",
        "    model.add(MaxPooling2D(pool_size=(2,2)))\n",
        "\n",
        "    model.add(Flatten())\n",
        "\n",
        "    # Fully connected layer\n",
        "    model.add(Dense(512))\n",
        "    model.add(BatchNormalization())\n",
        "    model.add(Activation('relu'))\n",
        "    model.add(Dropout(0.2))\n",
        "    model.add(Dense(10))\n",
        "    model.add(Activation('softmax'))\n",
        "    \n",
        "    # Compile the model\n",
        "    model.compile(loss='categorical_crossentropy', optimizer=Adam(), metrics=['accuracy'])\n",
        "    return model"
      ],
      "execution_count": 0,
      "outputs": []
    },
    {
      "cell_type": "code",
      "metadata": {
        "id": "7B8X2KbgjuQ7",
        "colab_type": "code",
        "colab": {}
      },
      "source": [
        "def train_and_evaluate__model(model, data_train, labels_train, data_test, labels_test):\n",
        "    hist = model.fit(data_train, labels_train, validation_data=(data_test, labels_test), epochs=100, batch_size=1000, verbose=1)\n",
        "    return hist\n",
        "    \n",
        "Ytst = np.argmax(Y_test,axis=1)\n",
        "Ytrn = np.argmax(Y_train,axis=1)\n",
        "# Instantiate the cross validator\n",
        "skf = StratifiedKFold(n_splits=10, shuffle=True)\n",
        "# Loop through the indices the split() method returns\n",
        "for index, (train_indices, val_indices) in enumerate(skf.split(image_X_train, Ytrn)):\n",
        "    print (\"Training on fold \" + str(index+1) + \"/10...\")\n",
        "    # Generate batches from indices\n",
        "    xtrain, xval = image_X_train[train_indices], image_X_train[val_indices]\n",
        "    ytrain, yval = Y_train[train_indices], Y_train[val_indices]\n",
        "    # Clear model, and create it\n",
        "    model = None\n",
        "    model = create_model()\n",
        "    \n",
        "    # Debug message I guess\n",
        "    # print \"Training new iteration on \" + str(xtrain.shape[0]) + \" training samples, \" + str(xval.shape[0]) + \" validation samples, this may be a while...\"\n",
        "    \n",
        "    hist = train_and_evaluate__model(create_model(), image_X_train, Y_train, image_X_test, Y_test)\n",
        "    accuracy_history = hist.history['acc']\n",
        "    val_accuracy_history = hist.history['val_acc']\n",
        "    print (\"Last training accuracy: \" + str(accuracy_history[-1]) + \", last validation accuracy: \" + str(val_accuracy_history[-1]))"
      ],
      "execution_count": 0,
      "outputs": []
    },
    {
      "cell_type": "code",
      "metadata": {
        "id": "Q0ldudXBku0I",
        "colab_type": "code",
        "colab": {}
      },
      "source": [
        "pred = model.predict(image_X_test)\n",
        "predicted_class_indices=np.argmax(pred,axis=1)\n",
        "Y = np.argmax(Y_test,axis=1)"
      ],
      "execution_count": 0,
      "outputs": []
    },
    {
      "cell_type": "code",
      "metadata": {
        "id": "TQgBODXbb2yQ",
        "colab_type": "code",
        "colab": {}
      },
      "source": [
        "results = []\n",
        "results = pd.DataFrame(results)\n",
        "\n",
        "results['Original_Labels'] = Y\n",
        "results['Predicted_Labels'] = predicted_class_indices\n",
        "\n",
        "results"
      ],
      "execution_count": 0,
      "outputs": []
    },
    {
      "cell_type": "code",
      "metadata": {
        "id": "ozvtd75Xk9Rj",
        "colab_type": "code",
        "colab": {}
      },
      "source": [
        "scores = model.evaluate(image_X_test, Y_test, verbose=0)\n",
        "print(\"CNN Accuracy: %.2f%%\" % (scores[1]*100))"
      ],
      "execution_count": 0,
      "outputs": []
    }
  ]
}