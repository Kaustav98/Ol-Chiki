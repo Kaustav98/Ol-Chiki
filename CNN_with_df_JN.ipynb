{
 "cells": [
  {
   "cell_type": "code",
   "execution_count": 2,
   "metadata": {
    "colab": {},
    "colab_type": "code",
    "id": "701qd8SFW85D"
   },
   "outputs": [],
   "source": [
    "import numpy as np\n",
    "import pandas as pd\n",
    "import cv2\n",
    "\n",
    "from keras import backend as K\n",
    "from keras.models import Sequential\n",
    "from keras.layers import Conv2D, MaxPooling2D\n",
    "from keras.layers import Activation, Dropout, Flatten, Dense\n",
    "from keras.preprocessing.image import ImageDataGenerator\n",
    "from keras.metrics import categorical_crossentropy\n",
    "from keras.layers import BatchNormalization\n",
    "from keras.layers.convolutional import *\n",
    "from keras.callbacks import EarlyStopping, ReduceLROnPlateau\n",
    "from keras.optimizers import Adam\n",
    "from keras.utils import np_utils\n",
    "\n",
    "K.set_image_dim_ordering('tf')\n",
    "from sklearn.model_selection import train_test_split\n",
    "from sklearn.model_selection import StratifiedKFold\n",
    "from sklearn.preprocessing import MultiLabelBinarizer,LabelEncoder\n",
    "from sklearn.metrics import confusion_matrix\n",
    "from matplotlib import pyplot as plt\n",
    "\n",
    "import itertools\n",
    "\n",
    "from PIL import Image\n",
    "import os, sys"
   ]
  },
  {
   "cell_type": "code",
   "execution_count": 3,
   "metadata": {
    "colab": {},
    "colab_type": "code",
    "id": "Y2vVEds5TrqS"
   },
   "outputs": [],
   "source": [
    "Data = []\n",
    "labels_Data = []\n",
    "for i in range(10):\n",
    "    xData = str('Data/'+str(i)+'/')\n",
    "    drData = os.listdir(xData) # dir is your directory path\n",
    "    number_files = len(drData)\n",
    "    for names in (drData):\n",
    "        xData1 = str(xData+names)\n",
    "        Data.append(xData1)\n",
    "        labels_Data.append(i)"
   ]
  },
  {
   "cell_type": "code",
   "execution_count": 4,
   "metadata": {
    "colab": {},
    "colab_type": "code",
    "id": "mbFbp78kUJhp"
   },
   "outputs": [],
   "source": [
    "Data_tuples = []\n",
    "Data_tuples = list(zip(Data, labels_Data))"
   ]
  },
  {
   "cell_type": "code",
   "execution_count": 5,
   "metadata": {
    "colab": {},
    "colab_type": "code",
    "id": "-UmmMYciUQOS"
   },
   "outputs": [],
   "source": [
    "Data_df = pd.DataFrame(Data_tuples, columns=['Image_Path','Label'])\n",
    "Data_df = Data_df.sample(frac=1).reset_index(drop=True)"
   ]
  },
  {
   "cell_type": "code",
   "execution_count": 6,
   "metadata": {
    "colab": {},
    "colab_type": "code",
    "id": "iPoJl9lqkVSz"
   },
   "outputs": [],
   "source": [
    "X_train, X_test, Y_train, Y_test = train_test_split(Data_df['Image_Path'], Data_df['Label'], test_size=0.33, random_state=42)"
   ]
  },
  {
   "cell_type": "code",
   "execution_count": 7,
   "metadata": {
    "colab": {},
    "colab_type": "code",
    "id": "DrouOR3oVB6b"
   },
   "outputs": [],
   "source": [
    "X_train = X_train.reset_index(drop=True)\n",
    "X_test = X_test.reset_index(drop=True)\n",
    "Y_train = Y_train.reset_index(drop=True)\n",
    "Y_test = Y_test.reset_index(drop=True)"
   ]
  },
  {
   "cell_type": "code",
   "execution_count": 8,
   "metadata": {
    "colab": {},
    "colab_type": "code",
    "id": "p_9ZFAOhVWeN"
   },
   "outputs": [],
   "source": [
    "t = cv2.imread(Data_df['Image_Path'][3])"
   ]
  },
  {
   "cell_type": "code",
   "execution_count": 10,
   "metadata": {
    "colab": {},
    "colab_type": "code",
    "id": "oFvaWoefWAiZ"
   },
   "outputs": [],
   "source": [
    "image_X_train = []\n",
    "for i in range(len(X_train)):\n",
    "    image = cv2.imread(X_train[i])\n",
    "    image = image/255\n",
    "    image_X_train.append(image)\n",
    "image_X_train = np.array(image_X_train)"
   ]
  },
  {
   "cell_type": "code",
   "execution_count": 0,
   "metadata": {
    "colab": {},
    "colab_type": "code",
    "id": "8GFnAzBnbrRz"
   },
   "outputs": [],
   "source": [
    "image_X_test = []\n",
    "for i in range(len(X_test)):\n",
    "    image = cv2.imread(X_test[i])\n",
    "    image = image/255\n",
    "    image_X_test.append(image)\n",
    "image_X_test = np.array(image_X_test)"
   ]
  },
  {
   "cell_type": "code",
   "execution_count": 0,
   "metadata": {
    "colab": {},
    "colab_type": "code",
    "id": "dk6J5vWIWBTq"
   },
   "outputs": [],
   "source": [
    "image_X_train.shape[1:]"
   ]
  },
  {
   "cell_type": "code",
   "execution_count": 0,
   "metadata": {
    "colab": {},
    "colab_type": "code",
    "id": "PgQLDxMEhSPY"
   },
   "outputs": [],
   "source": [
    "Y_train = np_utils.to_categorical(Y_train, 10)\n",
    "Y_test = np_utils.to_categorical(Y_test, 10)"
   ]
  },
  {
   "cell_type": "code",
   "execution_count": 0,
   "metadata": {
    "colab": {},
    "colab_type": "code",
    "id": "s2egcFJSYMkq"
   },
   "outputs": [],
   "source": [
    "def create_model():    \n",
    "    model = Sequential()\n",
    "\n",
    "    model.add(Conv2D(32, (3, 3), input_shape=(28,28,3)))\n",
    "    model.add(BatchNormalization(axis=-1))\n",
    "    model.add(Activation('relu'))\n",
    "    model.add(Conv2D(32, (3, 3)))\n",
    "    model.add(BatchNormalization(axis=-1))\n",
    "    model.add(Activation('relu'))\n",
    "    model.add(MaxPooling2D(pool_size=(2,2)))\n",
    "    model.add(Dropout(0.2))\n",
    "\n",
    "    model.add(Conv2D(64,(3, 3)))\n",
    "    model.add(BatchNormalization(axis=-1))\n",
    "    model.add(Activation('relu'))\n",
    "    model.add(Conv2D(64, (3, 3)))\n",
    "    model.add(BatchNormalization(axis=-1))\n",
    "    model.add(Activation('relu'))\n",
    "    model.add(MaxPooling2D(pool_size=(2,2)))\n",
    "\n",
    "    model.add(Flatten())\n",
    "\n",
    "    # Fully connected layer\n",
    "    model.add(Dense(512))\n",
    "    model.add(BatchNormalization())\n",
    "    model.add(Activation('relu'))\n",
    "    model.add(Dropout(0.2))\n",
    "    model.add(Dense(10))\n",
    "    model.add(Activation('softmax'))\n",
    "    \n",
    "    # Compile the model\n",
    "    model.compile(loss='categorical_crossentropy', optimizer=Adam(), metrics=['accuracy'])\n",
    "    return model"
   ]
  },
  {
   "cell_type": "code",
   "execution_count": 0,
   "metadata": {
    "colab": {},
    "colab_type": "code",
    "id": "7B8X2KbgjuQ7"
   },
   "outputs": [],
   "source": [
    "def train_and_evaluate__model(model, data_train, labels_train, data_test, labels_test):\n",
    "    hist = model.fit(data_train, labels_train, validation_data=(data_test, labels_test), epochs=100, batch_size=1000, verbose=1)\n",
    "    return hist\n",
    "    \n",
    "Ytst = np.argmax(Y_test,axis=1)\n",
    "Ytrn = np.argmax(Y_train,axis=1)\n",
    "# Instantiate the cross validator\n",
    "skf = StratifiedKFold(n_splits=11, shuffle=True)\n",
    "# Loop through the indices the split() method returns\n",
    "for index, (train_indices, val_indices) in enumerate(skf.split(image_X_train, Ytrn)):\n",
    "    print (\"Training on fold \" + str(index+1) + \"/11...\")\n",
    "    # Generate batches from indices\n",
    "    xtrain, xval = image_X_train[train_indices], image_X_train[val_indices]\n",
    "    ytrain, yval = Y_train[train_indices], Y_train[val_indices]\n",
    "    # Clear model, and create it\n",
    "    model = None\n",
    "    model = create_model()\n",
    "    \n",
    "    # Debug message I guess\n",
    "    # print \"Training new iteration on \" + str(xtrain.shape[0]) + \" training samples, \" + str(xval.shape[0]) + \" validation samples, this may be a while...\"\n",
    "    \n",
    "    hist = train_and_evaluate__model(create_model(), image_X_train, Y_train, image_X_test, Y_test)\n",
    "    accuracy_history = hist.history['acc']\n",
    "    val_accuracy_history = hist.history['val_acc']\n",
    "    print (\"Last training accuracy: \" + str(accuracy_history[-1]) + \", last validation accuracy: \" + str(val_accuracy_history[-1]))"
   ]
  },
  {
   "cell_type": "code",
   "execution_count": 0,
   "metadata": {
    "colab": {},
    "colab_type": "code",
    "id": "Q0ldudXBku0I"
   },
   "outputs": [],
   "source": [
    "pred = model.predict(image_X_test)\n",
    "predicted_class_indices=np.argmax(pred,axis=1)\n",
    "Y = np.argmax(Y_test,axis=1)"
   ]
  },
  {
   "cell_type": "code",
   "execution_count": 0,
   "metadata": {
    "colab": {},
    "colab_type": "code",
    "id": "TQgBODXbb2yQ"
   },
   "outputs": [],
   "source": [
    "results = []\n",
    "results = pd.DataFrame(results)\n",
    "\n",
    "results['Original_Labels'] = Y\n",
    "results['Predicted_Labels'] = predicted_class_indices\n",
    "\n",
    "results"
   ]
  },
  {
   "cell_type": "code",
   "execution_count": 0,
   "metadata": {
    "colab": {},
    "colab_type": "code",
    "id": "ozvtd75Xk9Rj"
   },
   "outputs": [],
   "source": [
    "scores = model.evaluate(image_X_test, Y_test, verbose=0)\n",
    "print(\"CNN Accuracy: %.2f%%\" % (scores[1]*100))"
   ]
  }
 ],
 "metadata": {
  "accelerator": "GPU",
  "colab": {
   "collapsed_sections": [],
   "name": "CNN_with_df.ipynb",
   "provenance": [],
   "version": "0.3.2"
  },
  "kernelspec": {
   "display_name": "Python 3",
   "language": "python",
   "name": "python3"
  },
  "language_info": {
   "codemirror_mode": {
    "name": "ipython",
    "version": 3
   },
   "file_extension": ".py",
   "mimetype": "text/x-python",
   "name": "python",
   "nbconvert_exporter": "python",
   "pygments_lexer": "ipython3",
   "version": "3.6.6"
  }
 },
 "nbformat": 4,
 "nbformat_minor": 1
}
